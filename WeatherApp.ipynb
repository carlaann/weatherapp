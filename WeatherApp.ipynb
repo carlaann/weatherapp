{
 "cells": [
  {
   "cell_type": "markdown",
   "metadata": {},
   "source": [
    "# Weather App"
   ]
  },
  {
   "cell_type": "markdown",
   "metadata": {},
   "source": [
    "- Course: DSC510\n",
    "- Name: Carl Harrell\n",
    "- Date: August 3, 2019"
   ]
  },
  {
   "cell_type": "code",
   "execution_count": null,
   "metadata": {},
   "outputs": [
    {
     "name": "stdout",
     "output_type": "stream",
     "text": [
      "Enter 1 for zip or 2 for city: 2\n",
      "Please enter a city: Dallas\n",
      "Current Weather Conditions for Dallas\n",
      "Current Temp: 83.26 degrees\n",
      "High Temp: 84.99\n",
      "Low Temp: 82\n",
      "Pressure: 1012hPa\n",
      "Humidity: 74%\n",
      "Cloud Cover: broken clouds\n",
      "Continue Y/N: Y\n",
      "Enter 1 for zip or 2 for city: 1\n",
      "Please enter a zip code: 75230\n",
      "Current Weather Conditions for Dallas\n",
      "Current Temp: 83.16 degrees\n",
      "High Temp: 84\n",
      "Low Temp: 82\n",
      "Pressure: 1012hPa\n",
      "Humidity: 74%\n",
      "Cloud Cover: broken clouds\n"
     ]
    }
   ],
   "source": [
    "# importing request Library\n",
    "import requests\n",
    "\n",
    "# enter an API key requested from https://openweathermap.org/api\n",
    "key = \"\"\n",
    "\n",
    "# setting up function to retrieve zip code\n",
    "def retrieveWeatherByZip(zipCode):\n",
    "    try:\n",
    "        url = 'http://api.openweathermap.org/data/2.5/weather?zip={},us&APPID={}'.format(zipCode, key) + '&units=imperial'\n",
    "        res = requests.get(url)\n",
    "        return res\n",
    "    except (requests.RequestException, KeyError) as e:\n",
    "        print(e)\n",
    "        print(\"Bad request, check input data\")\n",
    "\n",
    "# setting up function to retrieve city\n",
    "def retrieveWeatherByCity(city):\n",
    "    try:\n",
    "        url = 'http://api.openweathermap.org/data/2.5/weather?q={},us&APPID={}'.format(city, key) + '&units=imperial'\n",
    "        res = requests.get(url)\n",
    "        return res\n",
    "    except (requests.RequestException, KeyError) as e:\n",
    "        print(e)\n",
    "        print(\"Bad request, check input data\")\n",
    "\n",
    "#parsing the data for retrieval\n",
    "def parseWeather(response):\n",
    "    try:\n",
    "        data = response.json()\n",
    "        name = (data['name'])\n",
    "        temp = data['main']['temp']\n",
    "        high_temp = data['main']['temp_max']\n",
    "        low_temp = data['main']['temp_min']\n",
    "        pressure = data['main']['pressure']\n",
    "        humidity = data['main']['humidity']\n",
    "\n",
    "        weather_list = data['weather']\n",
    "        weather_dict = weather_list[0]\n",
    "        desc = weather_dict['description']\n",
    "\n",
    "        print(\"Current Weather Conditions for \" + str(name))\n",
    "        print(\"Current Temp: \" + str(temp) + \" degrees\")\n",
    "        print(\"High Temp: \" + str(high_temp))\n",
    "        print(\"Low Temp: \" + str(low_temp))\n",
    "        print(\"Pressure: \" + str(pressure) + \"hPa\")\n",
    "        print(\"Humidity: \" + str(humidity) + \"%\")\n",
    "        print(\"Cloud Cover: \" + str(desc))\n",
    "    \n",
    "    except (requests.RequestException, KeyError) as e:\n",
    "        print(e)\n",
    "        print(\"Bad request, check input data\")\n",
    "\n",
    "# defining main funcion for retrieval by city and zip code\n",
    "def main():\n",
    "    while(True):\n",
    "        try:\n",
    "            res = 0\n",
    "            ans = int(input(\"Enter 1 for zip or 2 for city: \"))\n",
    "\n",
    "            if ans == 1:\n",
    "                user_loc = int(input(\"Please enter a zip code: \"))\n",
    "                res = retrieveWeatherByZip(user_loc)\n",
    "            elif ans == 2:\n",
    "                user_loc = input(\"Please enter a city: \")\n",
    "                res = retrieveWeatherByCity(user_loc)\n",
    "\n",
    "            parseWeather(res)\n",
    "\n",
    "            more_input = input(\"Continue Y/N: \")\n",
    "\n",
    "            if more_input == 'Y':\n",
    "                continue\n",
    "            elif more_input == 'N':\n",
    "                break\n",
    "        except (requests.RequestException, NameError, ValueError, AttributeError) as e:\n",
    "            print(e)\n",
    "\n",
    "\n",
    "if __name__ == '__main__':\n",
    "    main()"
   ]
  },
  {
   "cell_type": "code",
   "execution_count": null,
   "metadata": {},
   "outputs": [],
   "source": []
  }
 ],
 "metadata": {
  "kernelspec": {
   "display_name": "Python 3",
   "language": "python",
   "name": "python3"
  },
  "language_info": {
   "codemirror_mode": {
    "name": "ipython",
    "version": 3
   },
   "file_extension": ".py",
   "mimetype": "text/x-python",
   "name": "python",
   "nbconvert_exporter": "python",
   "pygments_lexer": "ipython3",
   "version": "3.7.3"
  }
 },
 "nbformat": 4,
 "nbformat_minor": 4
}
